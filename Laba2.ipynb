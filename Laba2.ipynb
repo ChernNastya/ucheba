{
 "cells": [
  {
   "cell_type": "markdown",
   "metadata": {},
   "source": [
    "![Title](Images/cisco.png)"
   ]
  },
  {
   "cell_type": "markdown",
   "metadata": {},
   "source": [
    "# Lab - Internet Meter Data Analysis "
   ]
  },
  {
   "cell_type": "markdown",
   "metadata": {},
   "source": [
    "### Objectives\n",
    "<li>**Part 1: Collect and Store Data**</li>\n",
    "<li>**Part 2: Manipulate Data**</li>\n",
    "### Scenario/Background\n",
    "In this lab, you will acquire Internet speed statistics and store the live data in a comma separated values (csv) file. You will also load the stored data from the csv file to a Python data structure, the Pandas `DataFrame`, and use its functionalities to explore the data and manipulate it so that it is easily readable.\n",
    "### Required Resources\n",
    "* 1 PC with Internet access\n",
    "* Raspberry Pi version 2 or higher\n",
    "* Python libraries: datetime, csv, subprocess, pandas, numpy\n",
    "* Datafiles: rpi_data_long.csv"
   ]
  },
  {
   "cell_type": "markdown",
   "metadata": {},
   "source": [
    "## Part 1: Collect and Store Data\n",
    "<p>The goal of this first part of the lab is to gather internet speed measurements through the Raspberry Pi. Three kinds of measurements will be collected:\n",
    "1. Ping speed\n",
    "2. Download speed\n",
    "3. Upload speed"
   ]
  },
  {
   "cell_type": "markdown",
   "metadata": {},
   "source": [
    "#### Step 1: Install Speedtest and Import Python Libraries.\n",
    "In this step, you will install Speedtest and import Python libraries.\n",
    "<p>Speedtest-cli is a Python script that measures the upload and download speed of your Internet connection. For more information about speedtest, go to https://github.com/sivel/speedtest-cli."
   ]
  },
  {
   "cell_type": "markdown",
   "metadata": {},
   "source": [
    "a) Install `speedtest-cli`."
   ]
  },
  {
   "cell_type": "code",
   "execution_count": 1,
   "metadata": {},
   "outputs": [
    {
     "name": "stdout",
     "output_type": "stream",
     "text": [
      "Requirement already satisfied: speedtest-cli in c:\\users\\user\\anaconda3\\lib\\site-packages (2.1.2)\n"
     ]
    }
   ],
   "source": [
    "# Code cell 1\n",
    "!pip install speedtest-cli"
   ]
  },
  {
   "cell_type": "markdown",
   "metadata": {},
   "source": [
    "This cli allows the Jupyter notebook to connect to the website and store the data."
   ]
  },
  {
   "cell_type": "markdown",
   "metadata": {},
   "source": [
    "b) Import the necessary Python libraries."
   ]
  },
  {
   "cell_type": "code",
   "execution_count": 3,
   "metadata": {},
   "outputs": [],
   "source": [
    "# Code cell 2\n",
    "# Python library to manage date and time data\n",
    "import datetime\n",
    "# Python library to read and write csv files\n",
    "import csv\n",
    "# Python library to execute bash commands from the notebook.\n",
    "# If you want to know more about this, check this resource: \n",
    "# http://www.pythonforbeginners.com/os/subprocess-for-system-administrators\n",
    "import subprocess"
   ]
  },
  {
   "cell_type": "markdown",
   "metadata": {},
   "source": [
    "#### Step 2: Generate timestamps using the `datetime` package.\n",
    "In this lab, measurements of Internet speed statistics will be generated. A crucial step in data acquisition for the majority of data analytics applications, is to associate a timestamp to measurements. "
   ]
  },
  {
   "cell_type": "markdown",
   "metadata": {},
   "source": [
    "a) To generate a timestamp, use the `datetime.now` function of the `datetime` package: "
   ]
  },
  {
   "cell_type": "code",
   "execution_count": 4,
   "metadata": {},
   "outputs": [
    {
     "name": "stdout",
     "output_type": "stream",
     "text": [
      "2021-03-21 15:49:24.080444 <class 'datetime.datetime'>\n"
     ]
    }
   ],
   "source": [
    "# Code cell 3\n",
    "date_time = datetime.datetime.now()\n",
    "print(date_time, type(date_time))"
   ]
  },
  {
   "cell_type": "markdown",
   "metadata": {},
   "source": [
    "b) An instance of the class `datetime` cannot be directly written to in text form. The function `strftime` parses the date information into a string. The arguments of this function determine the format of the output sting. A description of these parameters can be found in the documentation of the `strftime` function at https://docs.python.org/2/library/time.html. "
   ]
  },
  {
   "cell_type": "code",
   "execution_count": 5,
   "metadata": {},
   "outputs": [
    {
     "data": {
      "text/plain": [
       "'Sun, 21 Mar 2021 15:49:24'"
      ]
     },
     "execution_count": 5,
     "metadata": {},
     "output_type": "execute_result"
    }
   ],
   "source": [
    "# Code cell 4\n",
    "date_time.strftime('%a, %d %b %Y %H:%M:%S')"
   ]
  },
  {
   "cell_type": "markdown",
   "metadata": {},
   "source": [
    "After reading the documentation of the `strftime` function, generate a timestamp and parse it into a string with the following format: YYYY-MM-DD HH:MM:SS."
   ]
  },
  {
   "cell_type": "code",
   "execution_count": 7,
   "metadata": {},
   "outputs": [
    {
     "data": {
      "text/plain": [
       "'2021-03-21 15:49:24'"
      ]
     },
     "execution_count": 7,
     "metadata": {},
     "output_type": "execute_result"
    }
   ],
   "source": [
    "# Code cell 5\n",
    "date_time.strftime('%Y-%m-%d %H:%M:%S')\n"
   ]
  },
  {
   "cell_type": "markdown",
   "metadata": {},
   "source": [
    "#### Step 3: Run the process and collect the output with Python.\n",
    "\n",
    "The `speedtest-cli` command, if run from a terminal, returns a string with download and upload speeds. To run the command from this notebook, it is necessary to use the Python module `subprocess`, which allows running a process directly from the notebook code cell. "
   ]
  },
  {
   "cell_type": "markdown",
   "metadata": {},
   "source": [
    "a) Run a speed test using the `speedtest-cli` command from Python. The output will be stored in the process_output variable."
   ]
  },
  {
   "cell_type": "code",
   "execution_count": 8,
   "metadata": {},
   "outputs": [],
   "source": [
    "# Code cell 6\n",
    "# This string contains the command line to interface with speedtest.net\n",
    "speedtest_cmd = \"speedtest-cli --simple\"\n",
    "# Execute the process\n",
    "process = subprocess.Popen(speedtest_cmd.split(), stdout=subprocess.PIPE)\n",
    "# Collect the command output\n",
    "process_output = process.communicate()[0]"
   ]
  },
  {
   "cell_type": "markdown",
   "metadata": {},
   "source": [
    "b) Print the process output. Notice the type for the `process_output` variable."
   ]
  },
  {
   "cell_type": "code",
   "execution_count": 9,
   "metadata": {},
   "outputs": [
    {
     "name": "stdout",
     "output_type": "stream",
     "text": [
      "b'Ping: 9.736 ms\\r\\nDownload: 93.17 Mbit/s\\r\\nUpload: 94.61 Mbit/s\\r\\n' <class 'bytes'>\n"
     ]
    }
   ],
   "source": [
    "# Code cell 7\n",
    "print(process_output, type(process_output))"
   ]
  },
  {
   "cell_type": "markdown",
   "metadata": {},
   "source": [
    "c) The speed test result is split, and a timestamp is appended to the results."
   ]
  },
  {
   "cell_type": "code",
   "execution_count": 10,
   "metadata": {},
   "outputs": [
    {
     "name": "stdout",
     "output_type": "stream",
     "text": [
      "[b'Ping:', b'9.736', b'ms', b'Download:', b'93.17', b'Mbit/s', b'Upload:', b'94.61', b'Mbit/s', '2021-03-21 16:28:41'] <class 'list'>\n"
     ]
    }
   ],
   "source": [
    "# Code cell 8\n",
    "# Store the time at which the speedtest was executed\n",
    "date_time = datetime.datetime.now().strftime(\"%Y-%m-%d %H:%M:%S\")\n",
    "process_output = process_output.split()\n",
    "process_output.append(date_time)\n",
    "print(process_output, type(process_output))"
   ]
  },
  {
   "cell_type": "markdown",
   "metadata": {},
   "source": [
    "d) The speedtest() function is created to return the results from the speedtest-cli command."
   ]
  },
  {
   "cell_type": "code",
   "execution_count": 11,
   "metadata": {},
   "outputs": [],
   "source": [
    "# Code cell 9\n",
    "# function to excute the speed test\n",
    "def speedtest():\n",
    "    # We need to store the time at which the speedtest was executed\n",
    "    date_time = datetime.datetime.now().strftime(\"%Y-%m-%d %H:%M:%S\")\n",
    "    # This is a string that contains what we would write on the command line \n",
    "    #to interface with speedtest.net\n",
    "    speedtest_cmd = \"speedtest-cli --simple\"\n",
    "    # We now execute the process: \n",
    "    process = subprocess.Popen(speedtest_cmd.split(), stdout=subprocess.PIPE)\n",
    "    process_output = process.communicate()[0]\n",
    "    process_output = process_output.split()\n",
    "    # and we add the date and time \n",
    "    process_output.append(date_time)\n",
    "    return process_output"
   ]
  },
  {
   "cell_type": "markdown",
   "metadata": {},
   "source": [
    "What does the speedtest() function return? What is the code to view results from the speedtest() function?"
   ]
  },
  {
   "cell_type": "markdown",
   "metadata": {},
   "source": []
  },
  {
   "cell_type": "code",
   "execution_count": 16,
   "metadata": {},
   "outputs": [
    {
     "data": {
      "text/plain": [
       "[b'Ping:',\n",
       " b'7.506',\n",
       " b'ms',\n",
       " b'Download:',\n",
       " b'93.20',\n",
       " b'Mbit/s',\n",
       " b'Upload:',\n",
       " b'94.69',\n",
       " b'Mbit/s',\n",
       " '2021-03-21 16:48:40']"
      ]
     },
     "execution_count": 16,
     "metadata": {},
     "output_type": "execute_result"
    }
   ],
   "source": [
    "speedtest()\n"
   ]
  },
  {
   "cell_type": "markdown",
   "metadata": {},
   "source": [
    "#### Step 4: Store the output of the `speedtest()` function.\n",
    "\n",
    "The comma separated values (csv) is the most common import and export format for spreadsheets and databases. To learn more information about working with csv in Python, navigate to https://docs.python.org/2/library/csv.html."
   ]
  },
  {
   "cell_type": "markdown",
   "metadata": {},
   "source": [
    "a) Create a file named test.txt in the /tmp directory and write \"test_msg\" in the file."
   ]
  },
  {
   "cell_type": "code",
   "execution_count": 36,
   "metadata": {},
   "outputs": [],
   "source": [
    "# Code cell 11\n",
    "with open(\"/Users/User/Desktop/ucheba/Labs_1,2,3/test.txt\",'w') as f:\n",
    "    f.write('test_msg')"
   ]
  },
  {
   "cell_type": "markdown",
   "metadata": {},
   "source": [
    "b) Use the Linux command `cat` to verify the creation and content of the file."
   ]
  },
  {
   "cell_type": "code",
   "execution_count": 32,
   "metadata": {},
   "outputs": [
    {
     "name": "stderr",
     "output_type": "stream",
     "text": [
      "\"cat\" не является внутренней или внешней\n",
      "командой, исполняемой программой или пакетным файлом.\n"
     ]
    }
   ],
   "source": [
    "# Code cell 12\n",
    "!cat /tmp/test.txt"
   ]
  },
  {
   "cell_type": "markdown",
   "metadata": {},
   "source": [
    "c) To check that the file was successfully open:"
   ]
  },
  {
   "cell_type": "code",
   "execution_count": 37,
   "metadata": {},
   "outputs": [
    {
     "name": "stdout",
     "output_type": "stream",
     "text": [
      "test_msg\n"
     ]
    }
   ],
   "source": [
    "# Code cell 13\n",
    "with open(\"/Users/User/Desktop/ucheba/Labs_1,2,3/test.text\",'r') as f:\n",
    "   str = f.read()\n",
    "print(str)"
   ]
  },
  {
   "cell_type": "markdown",
   "metadata": {},
   "source": [
    "d) Understanding the meaning of the `with` statement, especially in combination with `try` and `except` is not required for the rest of this lab, but a useful resource about this is http://effbot.org/zone/python-with-statement.htm.\n",
    "<p>\n",
    "To write into a `csv` file, it is necessary to create a `csv.writer` object. Check https://docs.python.org/2/library/csv.html and find out which function of the 'csv.writer' object can be used to add a row to a `csv` file."
   ]
  },
  {
   "cell_type": "code",
   "execution_count": 38,
   "metadata": {},
   "outputs": [
    {
     "name": "stdout",
     "output_type": "stream",
     "text": [
      "test_msg\n"
     ]
    }
   ],
   "source": [
    "# Code cell 14\n",
    "# function to save data to csv\n",
    "def save_to_csv(data, filename):\n",
    "    try:\n",
    "        # If the file exists, we want to append a new line to it, with the \n",
    "        #results of the current experiment\n",
    "        with open(filename + '.csv', 'a') as f:\n",
    "            wr = csv.writer(f)\n",
    "            wr.writerow(data)\n",
    "    except:\n",
    "        # If it does not exist, create the file first\n",
    "        with open(filename + '.csv', 'w') as f:\n",
    "            # Hint: This is similar to appending new lines to a file.\n",
    "            # Create a csv writer object\n",
    "             f.write('test_msg')\n",
    "            # Save (write) to file\n",
    "             str = f.read()\n",
    "print(str)"
   ]
  },
  {
   "cell_type": "markdown",
   "metadata": {},
   "source": [
    "#### Step 5: Check the collected data.\n",
    "Write a function to open a csv file and print its content to screen. You can find an example in the 13.1.5 section of https://docs.python.org/2/library/csv.html"
   ]
  },
  {
   "cell_type": "code",
   "execution_count": 44,
   "metadata": {},
   "outputs": [
    {
     "name": "stdout",
     "output_type": "stream",
     "text": [
      "test_msg\n"
     ]
    }
   ],
   "source": [
    "# Code cell 15\n",
    "def print_from_csv(filename): \n",
    "    with open(filename + '.csv', 'r') as f:\n",
    "            re = csv.reader(f)\n",
    "            str = f.read()\n",
    "print(str)"
   ]
  },
  {
   "cell_type": "markdown",
   "metadata": {},
   "source": [
    "Now, all the functions needed to collect and store Internet speed data are finished.\n",
    "#### Step 6: Run the Speedtest multiple times and store the data.\n",
    "a) Write a `for` loop that calls the speedtest 5 times, prints the output of the tests, and stores the data in a csv file."
   ]
  },
  {
   "cell_type": "code",
   "execution_count": 45,
   "metadata": {},
   "outputs": [
    {
     "name": "stdout",
     "output_type": "stream",
     "text": [
      "Test number 0\n",
      "[b'Ping:', b'7.496', b'ms', b'Download:', b'94.74', b'Mbit/s', b'Upload:', b'94.65', b'Mbit/s', '2021-03-21 17:36:56']\n",
      "Test number 1\n",
      "[b'Ping:', b'3.118', b'ms', b'Download:', b'46.37', b'Mbit/s', b'Upload:', b'21.75', b'Mbit/s', '2021-03-21 17:37:19']\n",
      "Test number 2\n",
      "[b'Ping:', b'5.771', b'ms', b'Download:', b'79.77', b'Mbit/s', b'Upload:', b'16.10', b'Mbit/s', '2021-03-21 17:37:42']\n",
      "Test number 3\n",
      "[b'Ping:', b'1.948', b'ms', b'Download:', b'94.54', b'Mbit/s', b'Upload:', b'94.69', b'Mbit/s', '2021-03-21 17:38:05']\n",
      "Test number 4\n",
      "[b'Ping:', b'2.782', b'ms', b'Download:', b'55.53', b'Mbit/s', b'Upload:', b'13.59', b'Mbit/s', '2021-03-21 17:38:27']\n"
     ]
    }
   ],
   "source": [
    "# Code cell 16\n",
    "for i in range(5):\n",
    "    speedtest_output = speedtest()\n",
    "    print('Test number {}'.format(i))\n",
    "    print(speedtest_output)\n",
    "    save_to_csv(speedtest_output, '/Users/User/Desktop/ucheba/Labs_1,2,3/rpi_data_test')\n",
    "    "
   ]
  },
  {
   "cell_type": "markdown",
   "metadata": {},
   "source": [
    "b) Display the file to verify that the data has been saved correctly."
   ]
  },
  {
   "cell_type": "code",
   "execution_count": 48,
   "metadata": {},
   "outputs": [],
   "source": [
    "# Code cell 17\n",
    "print_from_csv('/Users/User/Desktop/ucheba/Labs_1,2,3/rpi_data_test')\n"
   ]
  },
  {
   "cell_type": "markdown",
   "metadata": {},
   "source": [
    "If a bigger dataset is needed, the speedtest can be running in the background for more samples.\n",
    "\n",
    "How would you change the code if you wanted to run the code 100 times?"
   ]
  },
  {
   "cell_type": "markdown",
   "metadata": {
    "collapsed": true
   },
   "source": []
  },
  {
   "cell_type": "code",
   "execution_count": 53,
   "metadata": {},
   "outputs": [
    {
     "name": "stdout",
     "output_type": "stream",
     "text": [
      "Test number: 0\n",
      "[b'Ping:', b'7.432', b'ms', b'Download:', b'92.38', b'Mbit/s', b'Upload:', b'94.47', b'Mbit/s', '2021-03-21 17:41:38']\n",
      "Test number: 1\n",
      "[b'Ping:', b'1.2', b'ms', b'Download:', b'92.97', b'Mbit/s', b'Upload:', b'94.57', b'Mbit/s', '2021-03-21 17:42:04']\n",
      "Test number: 2\n",
      "[b'Ping:', b'1.453', b'ms', b'Download:', b'91.10', b'Mbit/s', b'Upload:', b'94.73', b'Mbit/s', '2021-03-21 17:42:26']\n",
      "Test number: 3\n",
      "[b'Ping:', b'7.573', b'ms', b'Download:', b'67.09', b'Mbit/s', b'Upload:', b'26.72', b'Mbit/s', '2021-03-21 17:42:48']\n",
      "Test number: 4\n",
      "[b'Ping:', b'5.294', b'ms', b'Download:', b'74.44', b'Mbit/s', b'Upload:', b'9.03', b'Mbit/s', '2021-03-21 17:43:11']\n",
      "Test number: 5\n",
      "[b'Ping:', b'7.396', b'ms', b'Download:', b'91.80', b'Mbit/s', b'Upload:', b'94.66', b'Mbit/s', '2021-03-21 17:43:34']\n",
      "Test number: 6\n",
      "[b'Ping:', b'1.336', b'ms', b'Download:', b'72.12', b'Mbit/s', b'Upload:', b'33.70', b'Mbit/s', '2021-03-21 17:43:57']\n",
      "Test number: 7\n",
      "[b'Ping:', b'7.465', b'ms', b'Download:', b'94.57', b'Mbit/s', b'Upload:', b'94.66', b'Mbit/s', '2021-03-21 17:44:20']\n",
      "Test number: 8\n",
      "[b'Ping:', b'7.259', b'ms', b'Download:', b'94.05', b'Mbit/s', b'Upload:', b'94.40', b'Mbit/s', '2021-03-21 17:44:43']\n",
      "Test number: 9\n",
      "[b'Ping:', b'5.467', b'ms', b'Download:', b'94.67', b'Mbit/s', b'Upload:', b'93.25', b'Mbit/s', '2021-03-21 17:45:05']\n",
      "Test number: 10\n",
      "[b'Ping:', b'1.239', b'ms', b'Download:', b'85.63', b'Mbit/s', b'Upload:', b'94.49', b'Mbit/s', '2021-03-21 17:45:27']\n",
      "Test number: 11\n",
      "[b'Ping:', b'5.382', b'ms', b'Download:', b'59.34', b'Mbit/s', b'Upload:', b'12.86', b'Mbit/s', '2021-03-21 17:45:49']\n",
      "Test number: 12\n",
      "[b'Ping:', b'2.167', b'ms', b'Download:', b'37.22', b'Mbit/s', b'Upload:', b'11.58', b'Mbit/s', '2021-03-21 17:46:14']\n",
      "Test number: 13\n",
      "[b'Ping:', b'2.303', b'ms', b'Download:', b'94.69', b'Mbit/s', b'Upload:', b'94.56', b'Mbit/s', '2021-03-21 17:46:45']\n",
      "Test number: 14\n",
      "[b'Ping:', b'7.138', b'ms', b'Download:', b'90.48', b'Mbit/s', b'Upload:', b'94.54', b'Mbit/s', '2021-03-21 17:47:07']\n",
      "Test number: 15\n",
      "[b'Ping:', b'7.405', b'ms', b'Download:', b'92.67', b'Mbit/s', b'Upload:', b'94.22', b'Mbit/s', '2021-03-21 17:47:29']\n",
      "Test number: 16\n",
      "[b'Ping:', b'7.513', b'ms', b'Download:', b'57.05', b'Mbit/s', b'Upload:', b'14.07', b'Mbit/s', '2021-03-21 17:47:52']\n",
      "Test number: 17\n",
      "[b'Ping:', b'1.176', b'ms', b'Download:', b'87.99', b'Mbit/s', b'Upload:', b'94.50', b'Mbit/s', '2021-03-21 17:48:23']\n",
      "Test number: 18\n",
      "[b'Ping:', b'4.707', b'ms', b'Download:', b'88.08', b'Mbit/s', b'Upload:', b'94.44', b'Mbit/s', '2021-03-21 17:48:45']\n",
      "Test number: 19\n",
      "[b'Ping:', b'9.069', b'ms', b'Download:', b'87.87', b'Mbit/s', b'Upload:', b'94.45', b'Mbit/s', '2021-03-21 17:49:08']\n",
      "Test number: 20\n",
      "[b'Ping:', b'7.496', b'ms', b'Download:', b'47.70', b'Mbit/s', b'Upload:', b'16.08', b'Mbit/s', '2021-03-21 17:49:31']\n",
      "Test number: 21\n",
      "[b'Ping:', b'2.0', b'ms', b'Download:', b'87.90', b'Mbit/s', b'Upload:', b'94.47', b'Mbit/s', '2021-03-21 17:49:57']\n",
      "Test number: 22\n",
      "[b'Ping:', b'7.378', b'ms', b'Download:', b'87.79', b'Mbit/s', b'Upload:', b'94.54', b'Mbit/s', '2021-03-21 17:50:20']\n",
      "Test number: 23\n",
      "[b'Ping:', b'1.548', b'ms', b'Download:', b'89.21', b'Mbit/s', b'Upload:', b'94.52', b'Mbit/s', '2021-03-21 17:50:44']\n",
      "Test number: 24\n",
      "[b'Ping:', b'7.483', b'ms', b'Download:', b'87.92', b'Mbit/s', b'Upload:', b'94.47', b'Mbit/s', '2021-03-21 17:51:06']\n",
      "Test number: 25\n",
      "[b'Ping:', b'7.459', b'ms', b'Download:', b'87.91', b'Mbit/s', b'Upload:', b'94.39', b'Mbit/s', '2021-03-21 17:51:30']\n",
      "Test number: 26\n",
      "[b'Ping:', b'3.427', b'ms', b'Download:', b'87.89', b'Mbit/s', b'Upload:', b'94.45', b'Mbit/s', '2021-03-21 17:51:52']\n",
      "Test number: 27\n",
      "[b'Ping:', b'5.112', b'ms', b'Download:', b'87.71', b'Mbit/s', b'Upload:', b'94.48', b'Mbit/s', '2021-03-21 17:52:15']\n",
      "Test number: 28\n",
      "[b'Ping:', b'7.518', b'ms', b'Download:', b'84.23', b'Mbit/s', b'Upload:', b'94.37', b'Mbit/s', '2021-03-21 17:52:38']\n",
      "Test number: 29\n",
      "[b'Ping:', b'7.239', b'ms', b'Download:', b'87.50', b'Mbit/s', b'Upload:', b'94.52', b'Mbit/s', '2021-03-21 17:53:00']\n",
      "Test number: 30\n",
      "[b'Ping:', b'7.704', b'ms', b'Download:', b'87.87', b'Mbit/s', b'Upload:', b'94.44', b'Mbit/s', '2021-03-21 17:53:23']\n",
      "Test number: 31\n",
      "[b'Ping:', b'7.526', b'ms', b'Download:', b'32.35', b'Mbit/s', b'Upload:', b'19.24', b'Mbit/s', '2021-03-21 17:53:46']\n",
      "Test number: 32\n",
      "[b'Ping:', b'4.388', b'ms', b'Download:', b'86.30', b'Mbit/s', b'Upload:', b'94.50', b'Mbit/s', '2021-03-21 17:54:16']\n",
      "Test number: 33\n",
      "[b'Ping:', b'7.617', b'ms', b'Download:', b'32.20', b'Mbit/s', b'Upload:', b'26.52', b'Mbit/s', '2021-03-21 17:54:38']\n",
      "Test number: 34\n",
      "[b'Ping:', b'7.628', b'ms', b'Download:', b'87.50', b'Mbit/s', b'Upload:', b'94.43', b'Mbit/s', '2021-03-21 17:55:09']\n",
      "Test number: 35\n",
      "[b'Ping:', b'1.149', b'ms', b'Download:', b'87.62', b'Mbit/s', b'Upload:', b'94.40', b'Mbit/s', '2021-03-21 17:55:32']\n",
      "Test number: 36\n",
      "[b'Ping:', b'7.504', b'ms', b'Download:', b'58.44', b'Mbit/s', b'Upload:', b'21.16', b'Mbit/s', '2021-03-21 17:55:54']\n",
      "Test number: 37\n",
      "[b'Ping:', b'1.235', b'ms', b'Download:', b'87.69', b'Mbit/s', b'Upload:', b'94.45', b'Mbit/s', '2021-03-21 17:56:23']\n",
      "Test number: 38\n",
      "[b'Ping:', b'3.518', b'ms', b'Download:', b'84.52', b'Mbit/s', b'Upload:', b'94.34', b'Mbit/s', '2021-03-21 17:56:46']\n",
      "Test number: 39\n",
      "[b'Ping:', b'7.495', b'ms', b'Download:', b'85.79', b'Mbit/s', b'Upload:', b'94.43', b'Mbit/s', '2021-03-21 17:57:09']\n",
      "Test number: 40\n",
      "[b'Ping:', b'3.395', b'ms', b'Download:', b'87.78', b'Mbit/s', b'Upload:', b'94.44', b'Mbit/s', '2021-03-21 17:57:32']\n",
      "Test number: 41\n",
      "[b'Ping:', b'7.544', b'ms', b'Download:', b'84.23', b'Mbit/s', b'Upload:', b'94.39', b'Mbit/s', '2021-03-21 17:57:54']\n",
      "Test number: 42\n",
      "[b'Ping:', b'6.54', b'ms', b'Download:', b'40.95', b'Mbit/s', b'Upload:', b'10.05', b'Mbit/s', '2021-03-21 17:58:18']\n",
      "Test number: 43\n",
      "[b'Ping:', b'7.529', b'ms', b'Download:', b'86.96', b'Mbit/s', b'Upload:', b'94.42', b'Mbit/s', '2021-03-21 17:58:44']\n",
      "Test number: 44\n",
      "[b'Ping:', b'7.488', b'ms', b'Download:', b'87.01', b'Mbit/s', b'Upload:', b'94.45', b'Mbit/s', '2021-03-21 17:59:06']\n",
      "Test number: 45\n",
      "[b'Ping:', b'7.502', b'ms', b'Download:', b'87.05', b'Mbit/s', b'Upload:', b'94.13', b'Mbit/s', '2021-03-21 17:59:28']\n",
      "Test number: 46\n",
      "[b'Ping:', b'1.209', b'ms', b'Download:', b'87.78', b'Mbit/s', b'Upload:', b'94.29', b'Mbit/s', '2021-03-21 17:59:51']\n",
      "Test number: 47\n",
      "[b'Ping:', b'7.901', b'ms', b'Download:', b'86.03', b'Mbit/s', b'Upload:', b'94.46', b'Mbit/s', '2021-03-21 18:00:14']\n",
      "Test number: 48\n",
      "[b'Ping:', b'1.155', b'ms', b'Download:', b'87.31', b'Mbit/s', b'Upload:', b'94.41', b'Mbit/s', '2021-03-21 18:00:39']\n",
      "Test number: 49\n",
      "[b'Ping:', b'7.592', b'ms', b'Download:', b'84.58', b'Mbit/s', b'Upload:', b'94.51', b'Mbit/s', '2021-03-21 18:01:01']\n",
      "Test number: 50\n",
      "[b'Ping:', b'3.438', b'ms', b'Download:', b'87.61', b'Mbit/s', b'Upload:', b'94.40', b'Mbit/s', '2021-03-21 18:01:24']\n",
      "Test number: 51\n",
      "[b'Ping:', b'4.656', b'ms', b'Download:', b'87.30', b'Mbit/s', b'Upload:', b'94.46', b'Mbit/s', '2021-03-21 18:01:47']\n",
      "Test number: 52\n",
      "[b'Ping:', b'3.73', b'ms', b'Download:', b'39.93', b'Mbit/s', b'Upload:', b'20.37', b'Mbit/s', '2021-03-21 18:02:09']\n",
      "Test number: 53\n",
      "[b'Ping:', b'3.683', b'ms', b'Download:', b'87.31', b'Mbit/s', b'Upload:', b'94.56', b'Mbit/s', '2021-03-21 18:02:34']\n",
      "Test number: 54\n",
      "[b'Ping:', b'7.337', b'ms', b'Download:', b'87.99', b'Mbit/s', b'Upload:', b'94.53', b'Mbit/s', '2021-03-21 18:02:56']\n",
      "Test number: 55\n",
      "[b'Ping:', b'5.825', b'ms', b'Download:', b'85.54', b'Mbit/s', b'Upload:', b'93.52', b'Mbit/s', '2021-03-21 18:03:18']\n",
      "Test number: 56\n",
      "[b'Ping:', b'7.651', b'ms', b'Download:', b'87.03', b'Mbit/s', b'Upload:', b'81.25', b'Mbit/s', '2021-03-21 18:03:42']\n",
      "Test number: 57\n",
      "[b'Ping:', b'7.617', b'ms', b'Download:', b'87.96', b'Mbit/s', b'Upload:', b'94.53', b'Mbit/s', '2021-03-21 18:04:04']\n",
      "Test number: 58\n",
      "[b'Ping:', b'6.453', b'ms', b'Download:', b'39.59', b'Mbit/s', b'Upload:', b'30.92', b'Mbit/s', '2021-03-21 18:04:27']\n",
      "Test number: 59\n",
      "[b'Ping:', b'7.493', b'ms', b'Download:', b'87.63', b'Mbit/s', b'Upload:', b'94.22', b'Mbit/s', '2021-03-21 18:04:51']\n",
      "Test number: 60\n",
      "[b'Ping:', b'1.378', b'ms', b'Download:', b'87.40', b'Mbit/s', b'Upload:', b'94.57', b'Mbit/s', '2021-03-21 18:05:13']\n"
     ]
    },
    {
     "name": "stdout",
     "output_type": "stream",
     "text": [
      "Test number: 61\n",
      "[b'Ping:', b'1.381', b'ms', b'Download:', b'50.78', b'Mbit/s', b'Upload:', b'33.95', b'Mbit/s', '2021-03-21 18:05:36']\n",
      "Test number: 62\n",
      "[b'Ping:', b'5.511', b'ms', b'Download:', b'92.12', b'Mbit/s', b'Upload:', b'94.61', b'Mbit/s', '2021-03-21 18:06:01']\n",
      "Test number: 63\n",
      "[b'Ping:', b'7.622', b'ms', b'Download:', b'93.00', b'Mbit/s', b'Upload:', b'94.54', b'Mbit/s', '2021-03-21 18:06:23']\n",
      "Test number: 64\n",
      "[b'Ping:', b'2.055', b'ms', b'Download:', b'92.88', b'Mbit/s', b'Upload:', b'94.59', b'Mbit/s', '2021-03-21 18:06:45']\n",
      "Test number: 65\n",
      "[b'Ping:', b'7.514', b'ms', b'Download:', b'34.75', b'Mbit/s', b'Upload:', b'33.61', b'Mbit/s', '2021-03-21 18:07:07']\n",
      "Test number: 66\n",
      "[b'Ping:', b'7.482', b'ms', b'Download:', b'92.00', b'Mbit/s', b'Upload:', b'94.39', b'Mbit/s', '2021-03-21 18:07:35']\n",
      "Test number: 67\n",
      "[b'Ping:', b'5.505', b'ms', b'Download:', b'89.26', b'Mbit/s', b'Upload:', b'94.49', b'Mbit/s', '2021-03-21 18:07:57']\n",
      "Test number: 68\n",
      "[b'Ping:', b'7.509', b'ms', b'Download:', b'92.60', b'Mbit/s', b'Upload:', b'94.51', b'Mbit/s', '2021-03-21 18:08:19']\n",
      "Test number: 69\n",
      "[b'Ping:', b'6.25', b'ms', b'Download:', b'91.34', b'Mbit/s', b'Upload:', b'94.42', b'Mbit/s', '2021-03-21 18:08:41']\n",
      "Test number: 70\n",
      "[b'Ping:', b'7.531', b'ms', b'Download:', b'39.25', b'Mbit/s', b'Upload:', b'41.73', b'Mbit/s', '2021-03-21 18:09:04']\n",
      "Test number: 71\n",
      "[b'Ping:', b'7.341', b'ms', b'Download:', b'91.95', b'Mbit/s', b'Upload:', b'94.53', b'Mbit/s', '2021-03-21 18:09:32']\n",
      "Test number: 72\n",
      "[b'Ping:', b'7.587', b'ms', b'Download:', b'87.34', b'Mbit/s', b'Upload:', b'94.25', b'Mbit/s', '2021-03-21 18:09:56']\n",
      "Test number: 73\n",
      "[b'Ping:', b'5.765', b'ms', b'Download:', b'85.15', b'Mbit/s', b'Upload:', b'94.38', b'Mbit/s', '2021-03-21 18:10:18']\n",
      "Test number: 74\n",
      "[b'Ping:', b'6.769', b'ms', b'Download:', b'84.54', b'Mbit/s', b'Upload:', b'94.55', b'Mbit/s', '2021-03-21 18:10:41']\n",
      "Test number: 75\n",
      "[b'Ping:', b'7.665', b'ms', b'Download:', b'88.49', b'Mbit/s', b'Upload:', b'94.49', b'Mbit/s', '2021-03-21 18:11:04']\n",
      "Test number: 76\n",
      "[b'Ping:', b'7.482', b'ms', b'Download:', b'92.92', b'Mbit/s', b'Upload:', b'94.59', b'Mbit/s', '2021-03-21 18:11:26']\n",
      "Test number: 77\n",
      "[b'Ping:', b'7.193', b'ms', b'Download:', b'92.29', b'Mbit/s', b'Upload:', b'94.65', b'Mbit/s', '2021-03-21 18:11:49']\n",
      "Test number: 78\n",
      "[b'Ping:', b'7.379', b'ms', b'Download:', b'89.89', b'Mbit/s', b'Upload:', b'94.61', b'Mbit/s', '2021-03-21 18:12:11']\n",
      "Test number: 79\n",
      "[b'Ping:', b'6.854', b'ms', b'Download:', b'93.08', b'Mbit/s', b'Upload:', b'94.70', b'Mbit/s', '2021-03-21 18:12:33']\n",
      "Test number: 80\n",
      "[b'Ping:', b'3.56', b'ms', b'Download:', b'92.73', b'Mbit/s', b'Upload:', b'94.60', b'Mbit/s', '2021-03-21 18:13:02']\n",
      "Test number: 81\n",
      "[b'Ping:', b'1.431', b'ms', b'Download:', b'31.42', b'Mbit/s', b'Upload:', b'17.61', b'Mbit/s', '2021-03-21 18:13:25']\n",
      "Test number: 82\n",
      "[b'Ping:', b'9.131', b'ms', b'Download:', b'92.82', b'Mbit/s', b'Upload:', b'94.59', b'Mbit/s', '2021-03-21 18:13:55']\n",
      "Test number: 83\n",
      "[b'Ping:', b'7.519', b'ms', b'Download:', b'27.30', b'Mbit/s', b'Upload:', b'31.07', b'Mbit/s', '2021-03-21 18:14:19']\n",
      "Test number: 84\n",
      "[b'Ping:', b'2.839', b'ms', b'Download:', b'2.98', b'Mbit/s', b'Upload:', b'29.08', b'Mbit/s', '2021-03-21 18:14:47']\n",
      "Test number: 85\n",
      "[b'Ping:', b'7.613', b'ms', b'Download:', b'93.16', b'Mbit/s', b'Upload:', b'94.57', b'Mbit/s', '2021-03-21 18:15:17']\n",
      "Test number: 86\n",
      "[b'Ping:', b'7.65', b'ms', b'Download:', b'93.15', b'Mbit/s', b'Upload:', b'94.61', b'Mbit/s', '2021-03-21 18:15:39']\n",
      "Test number: 87\n",
      "[b'Ping:', b'5.894', b'ms', b'Download:', b'17.83', b'Mbit/s', b'Upload:', b'24.12', b'Mbit/s', '2021-03-21 18:16:02']\n",
      "Test number: 88\n",
      "[b'Ping:', b'4.552', b'ms', b'Download:', b'92.80', b'Mbit/s', b'Upload:', b'94.63', b'Mbit/s', '2021-03-21 18:16:33']\n",
      "Test number: 89\n",
      "[b'Ping:', b'6.425', b'ms', b'Download:', b'92.87', b'Mbit/s', b'Upload:', b'94.67', b'Mbit/s', '2021-03-21 18:16:57']\n",
      "Test number: 90\n",
      "[b'Ping:', b'5.513', b'ms', b'Download:', b'15.65', b'Mbit/s', b'Upload:', b'11.61', b'Mbit/s', '2021-03-21 18:17:22']\n",
      "Test number: 91\n",
      "[b'Ping:', b'5.962', b'ms', b'Download:', b'15.97', b'Mbit/s', b'Upload:', b'16.64', b'Mbit/s', '2021-03-21 18:18:01']\n",
      "Test number: 92\n",
      "[b'Ping:', b'7.508', b'ms', b'Download:', b'89.94', b'Mbit/s', b'Upload:', b'94.59', b'Mbit/s', '2021-03-21 18:18:41']\n",
      "Test number: 93\n",
      "[b'Ping:', b'1.563', b'ms', b'Download:', b'92.90', b'Mbit/s', b'Upload:', b'94.58', b'Mbit/s', '2021-03-21 18:19:03']\n",
      "Test number: 94\n",
      "[b'Ping:', b'7.201', b'ms', b'Download:', b'92.74', b'Mbit/s', b'Upload:', b'94.55', b'Mbit/s', '2021-03-21 18:19:26']\n",
      "Test number: 95\n",
      "[b'Ping:', b'7.507', b'ms', b'Download:', b'89.89', b'Mbit/s', b'Upload:', b'94.55', b'Mbit/s', '2021-03-21 18:19:49']\n",
      "Test number: 96\n",
      "[b'Ping:', b'5.385', b'ms', b'Download:', b'93.17', b'Mbit/s', b'Upload:', b'94.59', b'Mbit/s', '2021-03-21 18:20:11']\n",
      "Test number: 97\n",
      "[b'Ping:', b'4.224', b'ms', b'Download:', b'92.77', b'Mbit/s', b'Upload:', b'94.62', b'Mbit/s', '2021-03-21 18:20:34']\n",
      "Test number: 98\n",
      "[b'Ping:', b'7.688', b'ms', b'Download:', b'15.27', b'Mbit/s', b'Upload:', b'7.79', b'Mbit/s', '2021-03-21 18:20:56']\n",
      "Test number: 99\n",
      "[b'Ping:', b'7.378', b'ms', b'Download:', b'92.78', b'Mbit/s', b'Upload:', b'94.50', b'Mbit/s', '2021-03-21 18:21:30']\n"
     ]
    }
   ],
   "source": [
    "# Code cell 18\n",
    "# Code to run 100 times\n",
    "for i in range(100):\n",
    "    speedtest_output = speedtest()\n",
    "    print('Test number: {}'.format(i))\n",
    "    print(speedtest_output)\n",
    "    save_to_csv(speedtest_output, '/Users/User/Desktop/ucheba/Labs_1,2,3/rpi_data_test')"
   ]
  },
  {
   "cell_type": "markdown",
   "metadata": {},
   "source": [
    "## Part 2: Manipulate Data"
   ]
  },
  {
   "cell_type": "markdown",
   "metadata": {},
   "source": [
    "The Python library `pandas` is very useful for working with structured data. The full documentation can be found here: http://pandas.pydata.org/pandas-docs/version/0.14.1/</font>\n",
    "\n",
    "A larger dataset collected in advance will be used for this part of the lab. The filename is `rpi_data_long.csv`.\n",
    "\n",
    "#### Step 1: Import the Python libraries.\n",
    "\n",
    "Import `pandas` and the other libraries used for the next tasks."
   ]
  },
  {
   "cell_type": "code",
   "execution_count": 54,
   "metadata": {},
   "outputs": [],
   "source": [
    "# Code cell 19\n",
    "import datetime\n",
    "import csv\n",
    "import pandas as pd\n",
    "# NumPy is a library that adds support for large, multi-dimensional arrays and matrices\n",
    "# along with high-level mathematical functions to operate on these arrays\n",
    "import numpy as np"
   ]
  },
  {
   "cell_type": "markdown",
   "metadata": {},
   "source": [
    "#### Step 2: Load the `csv` file into a `DataFrame` object using `pandas`.\n",
    "\n",
    "A `pandas DataFrame` is a 2-dimensional labeled data structure with columns of potentially different types. You can think of it like a spreadsheet or SQL table. The pandas library function `read_csv` automatically converts a `csv` file into a `DataFrame` object.\n",
    "\n",
    "Read the `read_csv` documentation in http://pandas.pydata.org/pandas-docs/version/0.14.1/generated/pandas.read_csv.html.\n",
    "This function contains a lot of parameters. The only non-optional one is the `filepath`, i.e. the location of the `csv` file. All the other parameters are optional.\n",
    "\n",
    "In this step, you will import and view the content of the csv file, `rpi_data_long.csv`. This csv file is located in the same directory as this Jupyter notebook."
   ]
  },
  {
   "cell_type": "markdown",
   "metadata": {},
   "source": [
    "a) Assign the file `rpi_data_long.csv` to the variable `data_file`."
   ]
  },
  {
   "cell_type": "code",
   "execution_count": 55,
   "metadata": {},
   "outputs": [],
   "source": [
    "# Code cell 20\n",
    "data_file = '/Users/User/Desktop/ucheba/Labs_1,2,3/Data/rpi_data_long.csv'"
   ]
  },
  {
   "cell_type": "markdown",
   "metadata": {},
   "source": [
    "b) Use the Linux command `head` to view the first 10 lines of the csv file."
   ]
  },
  {
   "cell_type": "code",
   "execution_count": null,
   "metadata": {
    "collapsed": true,
    "scrolled": true
   },
   "outputs": [],
   "source": [
    "# Code cell 21\n",
    "!head -n 5 ./Data/rpi_data_long.csv"
   ]
  },
  {
   "cell_type": "markdown",
   "metadata": {},
   "source": [
    "c) Use the `names` parameter of the `read_csv` function to specify the name of the `DataFrame` columns."
   ]
  },
  {
   "cell_type": "code",
   "execution_count": 56,
   "metadata": {},
   "outputs": [],
   "source": [
    "# Code cell 22\n",
    "column_names = [ 'Type A', 'Measure A', 'Units A',\n",
    "                 'Type B', 'Measure B', 'Units B',\n",
    "                 'Type C', 'Measure C', 'Units C', \n",
    "                 'Datetime']"
   ]
  },
  {
   "cell_type": "markdown",
   "metadata": {},
   "source": [
    "d) Use the `read_csv` function to read from `data_file` and assign `column_names` as the column names in the dataframe."
   ]
  },
  {
   "cell_type": "code",
   "execution_count": 57,
   "metadata": {},
   "outputs": [],
   "source": [
    "# Code cell 23\n",
    "with open(data_file, 'r') as f:\n",
    "    df_redundant = pd.read_csv(f, names = column_names)"
   ]
  },
  {
   "cell_type": "markdown",
   "metadata": {},
   "source": [
    "e) The command `head()` displays the first few rows of the dataframe."
   ]
  },
  {
   "cell_type": "code",
   "execution_count": 64,
   "metadata": {},
   "outputs": [
    {
     "data": {
      "text/html": [
       "<div>\n",
       "<style scoped>\n",
       "    .dataframe tbody tr th:only-of-type {\n",
       "        vertical-align: middle;\n",
       "    }\n",
       "\n",
       "    .dataframe tbody tr th {\n",
       "        vertical-align: top;\n",
       "    }\n",
       "\n",
       "    .dataframe thead th {\n",
       "        text-align: right;\n",
       "    }\n",
       "</style>\n",
       "<table border=\"1\" class=\"dataframe\">\n",
       "  <thead>\n",
       "    <tr style=\"text-align: right;\">\n",
       "      <th></th>\n",
       "      <th>Type A</th>\n",
       "      <th>Measure A</th>\n",
       "      <th>Units A</th>\n",
       "      <th>Type B</th>\n",
       "      <th>Measure B</th>\n",
       "      <th>Units B</th>\n",
       "      <th>Type C</th>\n",
       "      <th>Measure C</th>\n",
       "      <th>Units C</th>\n",
       "      <th>Datetime</th>\n",
       "    </tr>\n",
       "  </thead>\n",
       "  <tbody>\n",
       "    <tr>\n",
       "      <th>0</th>\n",
       "      <td>Ping:</td>\n",
       "      <td>26.992</td>\n",
       "      <td>ms</td>\n",
       "      <td>Download:</td>\n",
       "      <td>91.80</td>\n",
       "      <td>Mbit/s</td>\n",
       "      <td>Upload:</td>\n",
       "      <td>14.31</td>\n",
       "      <td>Mbit/s</td>\n",
       "      <td>2016-11-24 13:36:25</td>\n",
       "    </tr>\n",
       "    <tr>\n",
       "      <th>1</th>\n",
       "      <td>Ping:</td>\n",
       "      <td>24.532</td>\n",
       "      <td>ms</td>\n",
       "      <td>Download:</td>\n",
       "      <td>88.19</td>\n",
       "      <td>Mbit/s</td>\n",
       "      <td>Upload:</td>\n",
       "      <td>14.12</td>\n",
       "      <td>Mbit/s</td>\n",
       "      <td>2016-11-24 13:36:55</td>\n",
       "    </tr>\n",
       "    <tr>\n",
       "      <th>2</th>\n",
       "      <td>Ping:</td>\n",
       "      <td>20.225</td>\n",
       "      <td>ms</td>\n",
       "      <td>Download:</td>\n",
       "      <td>59.86</td>\n",
       "      <td>Mbit/s</td>\n",
       "      <td>Upload:</td>\n",
       "      <td>14.11</td>\n",
       "      <td>Mbit/s</td>\n",
       "      <td>2016-11-24 13:37:25</td>\n",
       "    </tr>\n",
       "    <tr>\n",
       "      <th>3</th>\n",
       "      <td>Ping:</td>\n",
       "      <td>19.332</td>\n",
       "      <td>ms</td>\n",
       "      <td>Download:</td>\n",
       "      <td>91.81</td>\n",
       "      <td>Mbit/s</td>\n",
       "      <td>Upload:</td>\n",
       "      <td>14.22</td>\n",
       "      <td>Mbit/s</td>\n",
       "      <td>2016-11-24 13:37:57</td>\n",
       "    </tr>\n",
       "    <tr>\n",
       "      <th>4</th>\n",
       "      <td>Ping:</td>\n",
       "      <td>22.494</td>\n",
       "      <td>ms</td>\n",
       "      <td>Download:</td>\n",
       "      <td>92.05</td>\n",
       "      <td>Mbit/s</td>\n",
       "      <td>Upload:</td>\n",
       "      <td>14.08</td>\n",
       "      <td>Mbit/s</td>\n",
       "      <td>2016-11-24 13:38:27</td>\n",
       "    </tr>\n",
       "    <tr>\n",
       "      <th>5</th>\n",
       "      <td>Ping:</td>\n",
       "      <td>17.586</td>\n",
       "      <td>ms</td>\n",
       "      <td>Download:</td>\n",
       "      <td>91.88</td>\n",
       "      <td>Mbit/s</td>\n",
       "      <td>Upload:</td>\n",
       "      <td>14.18</td>\n",
       "      <td>Mbit/s</td>\n",
       "      <td>2016-11-24 13:39:01</td>\n",
       "    </tr>\n",
       "    <tr>\n",
       "      <th>6</th>\n",
       "      <td>Ping:</td>\n",
       "      <td>21.835</td>\n",
       "      <td>ms</td>\n",
       "      <td>Download:</td>\n",
       "      <td>92.18</td>\n",
       "      <td>Mbit/s</td>\n",
       "      <td>Upload:</td>\n",
       "      <td>14.07</td>\n",
       "      <td>Mbit/s</td>\n",
       "      <td>2016-11-24 13:39:30</td>\n",
       "    </tr>\n",
       "    <tr>\n",
       "      <th>7</th>\n",
       "      <td>Ping:</td>\n",
       "      <td>20.464</td>\n",
       "      <td>ms</td>\n",
       "      <td>Download:</td>\n",
       "      <td>92.05</td>\n",
       "      <td>Mbit/s</td>\n",
       "      <td>Upload:</td>\n",
       "      <td>14.13</td>\n",
       "      <td>Mbit/s</td>\n",
       "      <td>2016-11-24 13:40:00</td>\n",
       "    </tr>\n",
       "    <tr>\n",
       "      <th>8</th>\n",
       "      <td>Ping:</td>\n",
       "      <td>19.293</td>\n",
       "      <td>ms</td>\n",
       "      <td>Download:</td>\n",
       "      <td>90.79</td>\n",
       "      <td>Mbit/s</td>\n",
       "      <td>Upload:</td>\n",
       "      <td>14.14</td>\n",
       "      <td>Mbit/s</td>\n",
       "      <td>2016-11-24 13:40:30</td>\n",
       "    </tr>\n",
       "    <tr>\n",
       "      <th>9</th>\n",
       "      <td>Ping:</td>\n",
       "      <td>20.354</td>\n",
       "      <td>ms</td>\n",
       "      <td>Download:</td>\n",
       "      <td>92.64</td>\n",
       "      <td>Mbit/s</td>\n",
       "      <td>Upload:</td>\n",
       "      <td>14.07</td>\n",
       "      <td>Mbit/s</td>\n",
       "      <td>2016-11-24 13:41:00</td>\n",
       "    </tr>\n",
       "  </tbody>\n",
       "</table>\n",
       "</div>"
      ],
      "text/plain": [
       "  Type A Measure A Units A     Type B Measure B Units B   Type C  Measure C  \\\n",
       "0  Ping:    26.992      ms  Download:     91.80  Mbit/s  Upload:      14.31   \n",
       "1  Ping:    24.532      ms  Download:     88.19  Mbit/s  Upload:      14.12   \n",
       "2  Ping:    20.225      ms  Download:     59.86  Mbit/s  Upload:      14.11   \n",
       "3  Ping:    19.332      ms  Download:     91.81  Mbit/s  Upload:      14.22   \n",
       "4  Ping:    22.494      ms  Download:     92.05  Mbit/s  Upload:      14.08   \n",
       "5  Ping:    17.586      ms  Download:     91.88  Mbit/s  Upload:      14.18   \n",
       "6  Ping:    21.835      ms  Download:     92.18  Mbit/s  Upload:      14.07   \n",
       "7  Ping:    20.464      ms  Download:     92.05  Mbit/s  Upload:      14.13   \n",
       "8  Ping:    19.293      ms  Download:     90.79  Mbit/s  Upload:      14.14   \n",
       "9  Ping:    20.354      ms  Download:     92.64  Mbit/s  Upload:      14.07   \n",
       "\n",
       "  Units C             Datetime  \n",
       "0  Mbit/s  2016-11-24 13:36:25  \n",
       "1  Mbit/s  2016-11-24 13:36:55  \n",
       "2  Mbit/s  2016-11-24 13:37:25  \n",
       "3  Mbit/s  2016-11-24 13:37:57  \n",
       "4  Mbit/s  2016-11-24 13:38:27  \n",
       "5  Mbit/s  2016-11-24 13:39:01  \n",
       "6  Mbit/s  2016-11-24 13:39:30  \n",
       "7  Mbit/s  2016-11-24 13:40:00  \n",
       "8  Mbit/s  2016-11-24 13:40:30  \n",
       "9  Mbit/s  2016-11-24 13:41:00  "
      ]
     },
     "execution_count": 64,
     "metadata": {},
     "output_type": "execute_result"
    }
   ],
   "source": [
    "# Code cell 24\n",
    "# You can specify the number of rows you want to print to screen: \n",
    "# you do so passing the number as an argument to the function\n",
    "# (e.g., head(10))\n",
    "df_redundant.head(10)"
   ]
  },
  {
   "cell_type": "markdown",
   "metadata": {},
   "source": [
    "What is the code to read the first 20 lines of the csv file?"
   ]
  },
  {
   "cell_type": "markdown",
   "metadata": {},
   "source": []
  },
  {
   "cell_type": "markdown",
   "metadata": {},
   "source": [
    "#### Step 3: Create a concise representation.\n",
    "In this step, you will create a more compact representation using a copy of the data frame `df_redundant`."
   ]
  },
  {
   "cell_type": "markdown",
   "metadata": {},
   "source": [
    "a) Copy `df_redundant` into another dataframe called `df_compact` using `copy()`."
   ]
  },
  {
   "cell_type": "code",
   "execution_count": 59,
   "metadata": {},
   "outputs": [],
   "source": [
    "# Code cell 25\n",
    "df_compact = df_redundant.copy()"
   ]
  },
  {
   "cell_type": "markdown",
   "metadata": {},
   "source": [
    "b) Rename the columns relative to the measures as shown:\n",
    "\n",
    "    Measure A -> Ping (ms)\n",
    "    Measure B -> Download (Mbit/s)\n",
    "    Measure C -> Upload (Mbit/s)"
   ]
  },
  {
   "cell_type": "code",
   "execution_count": 65,
   "metadata": {
    "scrolled": true
   },
   "outputs": [
    {
     "data": {
      "text/html": [
       "<div>\n",
       "<style scoped>\n",
       "    .dataframe tbody tr th:only-of-type {\n",
       "        vertical-align: middle;\n",
       "    }\n",
       "\n",
       "    .dataframe tbody tr th {\n",
       "        vertical-align: top;\n",
       "    }\n",
       "\n",
       "    .dataframe thead th {\n",
       "        text-align: right;\n",
       "    }\n",
       "</style>\n",
       "<table border=\"1\" class=\"dataframe\">\n",
       "  <thead>\n",
       "    <tr style=\"text-align: right;\">\n",
       "      <th></th>\n",
       "      <th>Ping (ms)</th>\n",
       "      <th>Download (Mbit/s)</th>\n",
       "      <th>Upload (Mbit/s)</th>\n",
       "      <th>Datetime</th>\n",
       "      <th>Date</th>\n",
       "      <th>Time</th>\n",
       "    </tr>\n",
       "  </thead>\n",
       "  <tbody>\n",
       "    <tr>\n",
       "      <th>0</th>\n",
       "      <td>26.992</td>\n",
       "      <td>91.80</td>\n",
       "      <td>14.31</td>\n",
       "      <td>2016-11-24 13:36:25</td>\n",
       "      <td>2016-11-24</td>\n",
       "      <td>13:36:25</td>\n",
       "    </tr>\n",
       "    <tr>\n",
       "      <th>1</th>\n",
       "      <td>24.532</td>\n",
       "      <td>88.19</td>\n",
       "      <td>14.12</td>\n",
       "      <td>2016-11-24 13:36:55</td>\n",
       "      <td>2016-11-24</td>\n",
       "      <td>13:36:55</td>\n",
       "    </tr>\n",
       "    <tr>\n",
       "      <th>2</th>\n",
       "      <td>20.225</td>\n",
       "      <td>59.86</td>\n",
       "      <td>14.11</td>\n",
       "      <td>2016-11-24 13:37:25</td>\n",
       "      <td>2016-11-24</td>\n",
       "      <td>13:37:25</td>\n",
       "    </tr>\n",
       "  </tbody>\n",
       "</table>\n",
       "</div>"
      ],
      "text/plain": [
       "  Ping (ms) Download (Mbit/s)  Upload (Mbit/s)             Datetime  \\\n",
       "0    26.992             91.80            14.31  2016-11-24 13:36:25   \n",
       "1    24.532             88.19            14.12  2016-11-24 13:36:55   \n",
       "2    20.225             59.86            14.11  2016-11-24 13:37:25   \n",
       "\n",
       "         Date      Time  \n",
       "0  2016-11-24  13:36:25  \n",
       "1  2016-11-24  13:36:55  \n",
       "2  2016-11-24  13:37:25  "
      ]
     },
     "execution_count": 65,
     "metadata": {},
     "output_type": "execute_result"
    }
   ],
   "source": [
    "# Code cell 26\n",
    "df_compact.rename(columns={'Measure A':'Ping (ms)', \n",
    "                           'Measure B': 'Download (Mbit/s)',\n",
    "                           'Measure C': 'Upload (Mbit/s)'}, inplace=True)\n",
    "df_compact.head(3)"
   ]
  },
  {
   "cell_type": "markdown",
   "metadata": {},
   "source": [
    "c) Because the Types and Units columns are no longer necessary, these columns can be dropped."
   ]
  },
  {
   "cell_type": "code",
   "execution_count": 66,
   "metadata": {},
   "outputs": [
    {
     "ename": "KeyError",
     "evalue": "\"['Type A' 'Type B' 'Type C' 'Units A' 'Units B' 'Units C'] not found in axis\"",
     "output_type": "error",
     "traceback": [
      "\u001b[1;31m---------------------------------------------------------------------------\u001b[0m",
      "\u001b[1;31mKeyError\u001b[0m                                  Traceback (most recent call last)",
      "\u001b[1;32m<ipython-input-66-763165e47f96>\u001b[0m in \u001b[0;36m<module>\u001b[1;34m\u001b[0m\n\u001b[0;32m      1\u001b[0m \u001b[1;31m# Code cell 27\u001b[0m\u001b[1;33m\u001b[0m\u001b[1;33m\u001b[0m\u001b[1;33m\u001b[0m\u001b[0m\n\u001b[1;32m----> 2\u001b[1;33m df_compact.drop(['Type A', 'Type B', 'Type C',\n\u001b[0m\u001b[0;32m      3\u001b[0m          'Units A', 'Units B', 'Units C'], axis=1, inplace=True)\n\u001b[0;32m      4\u001b[0m \u001b[0mdf_compact\u001b[0m\u001b[1;33m.\u001b[0m\u001b[0mhead\u001b[0m\u001b[1;33m(\u001b[0m\u001b[1;33m)\u001b[0m\u001b[1;33m\u001b[0m\u001b[1;33m\u001b[0m\u001b[0m\n",
      "\u001b[1;32m~\\anaconda3\\lib\\site-packages\\pandas\\core\\frame.py\u001b[0m in \u001b[0;36mdrop\u001b[1;34m(self, labels, axis, index, columns, level, inplace, errors)\u001b[0m\n\u001b[0;32m   4161\u001b[0m                 \u001b[0mweight\u001b[0m  \u001b[1;36m1.0\u001b[0m     \u001b[1;36m0.8\u001b[0m\u001b[1;33m\u001b[0m\u001b[1;33m\u001b[0m\u001b[0m\n\u001b[0;32m   4162\u001b[0m         \"\"\"\n\u001b[1;32m-> 4163\u001b[1;33m         return super().drop(\n\u001b[0m\u001b[0;32m   4164\u001b[0m             \u001b[0mlabels\u001b[0m\u001b[1;33m=\u001b[0m\u001b[0mlabels\u001b[0m\u001b[1;33m,\u001b[0m\u001b[1;33m\u001b[0m\u001b[1;33m\u001b[0m\u001b[0m\n\u001b[0;32m   4165\u001b[0m             \u001b[0maxis\u001b[0m\u001b[1;33m=\u001b[0m\u001b[0maxis\u001b[0m\u001b[1;33m,\u001b[0m\u001b[1;33m\u001b[0m\u001b[1;33m\u001b[0m\u001b[0m\n",
      "\u001b[1;32m~\\anaconda3\\lib\\site-packages\\pandas\\core\\generic.py\u001b[0m in \u001b[0;36mdrop\u001b[1;34m(self, labels, axis, index, columns, level, inplace, errors)\u001b[0m\n\u001b[0;32m   3885\u001b[0m         \u001b[1;32mfor\u001b[0m \u001b[0maxis\u001b[0m\u001b[1;33m,\u001b[0m \u001b[0mlabels\u001b[0m \u001b[1;32min\u001b[0m \u001b[0maxes\u001b[0m\u001b[1;33m.\u001b[0m\u001b[0mitems\u001b[0m\u001b[1;33m(\u001b[0m\u001b[1;33m)\u001b[0m\u001b[1;33m:\u001b[0m\u001b[1;33m\u001b[0m\u001b[1;33m\u001b[0m\u001b[0m\n\u001b[0;32m   3886\u001b[0m             \u001b[1;32mif\u001b[0m \u001b[0mlabels\u001b[0m \u001b[1;32mis\u001b[0m \u001b[1;32mnot\u001b[0m \u001b[1;32mNone\u001b[0m\u001b[1;33m:\u001b[0m\u001b[1;33m\u001b[0m\u001b[1;33m\u001b[0m\u001b[0m\n\u001b[1;32m-> 3887\u001b[1;33m                 \u001b[0mobj\u001b[0m \u001b[1;33m=\u001b[0m \u001b[0mobj\u001b[0m\u001b[1;33m.\u001b[0m\u001b[0m_drop_axis\u001b[0m\u001b[1;33m(\u001b[0m\u001b[0mlabels\u001b[0m\u001b[1;33m,\u001b[0m \u001b[0maxis\u001b[0m\u001b[1;33m,\u001b[0m \u001b[0mlevel\u001b[0m\u001b[1;33m=\u001b[0m\u001b[0mlevel\u001b[0m\u001b[1;33m,\u001b[0m \u001b[0merrors\u001b[0m\u001b[1;33m=\u001b[0m\u001b[0merrors\u001b[0m\u001b[1;33m)\u001b[0m\u001b[1;33m\u001b[0m\u001b[1;33m\u001b[0m\u001b[0m\n\u001b[0m\u001b[0;32m   3888\u001b[0m \u001b[1;33m\u001b[0m\u001b[0m\n\u001b[0;32m   3889\u001b[0m         \u001b[1;32mif\u001b[0m \u001b[0minplace\u001b[0m\u001b[1;33m:\u001b[0m\u001b[1;33m\u001b[0m\u001b[1;33m\u001b[0m\u001b[0m\n",
      "\u001b[1;32m~\\anaconda3\\lib\\site-packages\\pandas\\core\\generic.py\u001b[0m in \u001b[0;36m_drop_axis\u001b[1;34m(self, labels, axis, level, errors)\u001b[0m\n\u001b[0;32m   3919\u001b[0m                 \u001b[0mnew_axis\u001b[0m \u001b[1;33m=\u001b[0m \u001b[0maxis\u001b[0m\u001b[1;33m.\u001b[0m\u001b[0mdrop\u001b[0m\u001b[1;33m(\u001b[0m\u001b[0mlabels\u001b[0m\u001b[1;33m,\u001b[0m \u001b[0mlevel\u001b[0m\u001b[1;33m=\u001b[0m\u001b[0mlevel\u001b[0m\u001b[1;33m,\u001b[0m \u001b[0merrors\u001b[0m\u001b[1;33m=\u001b[0m\u001b[0merrors\u001b[0m\u001b[1;33m)\u001b[0m\u001b[1;33m\u001b[0m\u001b[1;33m\u001b[0m\u001b[0m\n\u001b[0;32m   3920\u001b[0m             \u001b[1;32melse\u001b[0m\u001b[1;33m:\u001b[0m\u001b[1;33m\u001b[0m\u001b[1;33m\u001b[0m\u001b[0m\n\u001b[1;32m-> 3921\u001b[1;33m                 \u001b[0mnew_axis\u001b[0m \u001b[1;33m=\u001b[0m \u001b[0maxis\u001b[0m\u001b[1;33m.\u001b[0m\u001b[0mdrop\u001b[0m\u001b[1;33m(\u001b[0m\u001b[0mlabels\u001b[0m\u001b[1;33m,\u001b[0m \u001b[0merrors\u001b[0m\u001b[1;33m=\u001b[0m\u001b[0merrors\u001b[0m\u001b[1;33m)\u001b[0m\u001b[1;33m\u001b[0m\u001b[1;33m\u001b[0m\u001b[0m\n\u001b[0m\u001b[0;32m   3922\u001b[0m             \u001b[0mresult\u001b[0m \u001b[1;33m=\u001b[0m \u001b[0mself\u001b[0m\u001b[1;33m.\u001b[0m\u001b[0mreindex\u001b[0m\u001b[1;33m(\u001b[0m\u001b[1;33m**\u001b[0m\u001b[1;33m{\u001b[0m\u001b[0maxis_name\u001b[0m\u001b[1;33m:\u001b[0m \u001b[0mnew_axis\u001b[0m\u001b[1;33m}\u001b[0m\u001b[1;33m)\u001b[0m\u001b[1;33m\u001b[0m\u001b[1;33m\u001b[0m\u001b[0m\n\u001b[0;32m   3923\u001b[0m \u001b[1;33m\u001b[0m\u001b[0m\n",
      "\u001b[1;32m~\\anaconda3\\lib\\site-packages\\pandas\\core\\indexes\\base.py\u001b[0m in \u001b[0;36mdrop\u001b[1;34m(self, labels, errors)\u001b[0m\n\u001b[0;32m   5280\u001b[0m         \u001b[1;32mif\u001b[0m \u001b[0mmask\u001b[0m\u001b[1;33m.\u001b[0m\u001b[0many\u001b[0m\u001b[1;33m(\u001b[0m\u001b[1;33m)\u001b[0m\u001b[1;33m:\u001b[0m\u001b[1;33m\u001b[0m\u001b[1;33m\u001b[0m\u001b[0m\n\u001b[0;32m   5281\u001b[0m             \u001b[1;32mif\u001b[0m \u001b[0merrors\u001b[0m \u001b[1;33m!=\u001b[0m \u001b[1;34m\"ignore\"\u001b[0m\u001b[1;33m:\u001b[0m\u001b[1;33m\u001b[0m\u001b[1;33m\u001b[0m\u001b[0m\n\u001b[1;32m-> 5282\u001b[1;33m                 \u001b[1;32mraise\u001b[0m \u001b[0mKeyError\u001b[0m\u001b[1;33m(\u001b[0m\u001b[1;34mf\"{labels[mask]} not found in axis\"\u001b[0m\u001b[1;33m)\u001b[0m\u001b[1;33m\u001b[0m\u001b[1;33m\u001b[0m\u001b[0m\n\u001b[0m\u001b[0;32m   5283\u001b[0m             \u001b[0mindexer\u001b[0m \u001b[1;33m=\u001b[0m \u001b[0mindexer\u001b[0m\u001b[1;33m[\u001b[0m\u001b[1;33m~\u001b[0m\u001b[0mmask\u001b[0m\u001b[1;33m]\u001b[0m\u001b[1;33m\u001b[0m\u001b[1;33m\u001b[0m\u001b[0m\n\u001b[0;32m   5284\u001b[0m         \u001b[1;32mreturn\u001b[0m \u001b[0mself\u001b[0m\u001b[1;33m.\u001b[0m\u001b[0mdelete\u001b[0m\u001b[1;33m(\u001b[0m\u001b[0mindexer\u001b[0m\u001b[1;33m)\u001b[0m\u001b[1;33m\u001b[0m\u001b[1;33m\u001b[0m\u001b[0m\n",
      "\u001b[1;31mKeyError\u001b[0m: \"['Type A' 'Type B' 'Type C' 'Units A' 'Units B' 'Units C'] not found in axis\""
     ]
    }
   ],
   "source": [
    "# Code cell 27\n",
    "df_compact.drop(['Type A', 'Type B', 'Type C',\n",
    "         'Units A', 'Units B', 'Units C'], axis=1, inplace=True)\n",
    "df_compact.head()"
   ]
  },
  {
   "cell_type": "markdown",
   "metadata": {},
   "source": [
    "In the table above, the `Datetime` field is a string. Pandas and Python offer a number of operations to work with date and time that can be very helpful.\n",
    "\n",
    "In the next step, the string in the `Datetime` column will be separated into two new columns.\n",
    "\n",
    "#### Step 4: Separate data into two columns.\n",
    "In this step, you will use Pandas to generate the columns `Date` and `Time` from the column `Datetime` and then drop the `Datetime` column.\n",
    "<p>The `lambda` function is used create two anonymous functions that extract only the date and the time from a `datetime` object, respectively. Then, use the `pandas` function `apply` to apply this function to an entire column (in practice, `apply` implicitly defines a `for` loop and passes the rows one by one to our `lambda` function). Store the result of the `apply` functions in two new columns of the `DataFrame`."
   ]
  },
  {
   "cell_type": "markdown",
   "metadata": {},
   "source": [
    "a) Apply the `lambda` function to iterate through the data frame to split the date from the `Datetime` column."
   ]
  },
  {
   "cell_type": "code",
   "execution_count": 67,
   "metadata": {},
   "outputs": [],
   "source": [
    "# Code cell 28\n",
    "df_compact['Date'] = df_compact['Datetime'].apply(lambda dt_str: pd.to_datetime(dt_str).date())"
   ]
  },
  {
   "cell_type": "markdown",
   "metadata": {},
   "source": [
    "b) Repeat step a to split time from `Datetime` column. "
   ]
  },
  {
   "cell_type": "code",
   "execution_count": 68,
   "metadata": {},
   "outputs": [],
   "source": [
    "# Code cell 29\n",
    "# Please note, this requires an intermediate step, because of how NaT are treated by the time() function.\n",
    "# Reference: https://github.com/pandas-dev/pandas/issues/11453\n",
    "temp = df_compact['Datetime'].apply(lambda dt_str: pd.to_datetime(dt_str))\n",
    "df_compact['Time'] = temp.dt.time"
   ]
  },
  {
   "cell_type": "markdown",
   "metadata": {},
   "source": [
    "c) All the information for the `Datetime` column has now been copied to the `Date` and `Time` columnns. The `Datetime` column serves no purpose. The `Datetime` column can be dropped from the data frame.\n",
    "<p>Enter the code to drop the `Datetime` column in the cell below."
   ]
  },
  {
   "cell_type": "code",
   "execution_count": 69,
   "metadata": {},
   "outputs": [
    {
     "data": {
      "text/html": [
       "<div>\n",
       "<style scoped>\n",
       "    .dataframe tbody tr th:only-of-type {\n",
       "        vertical-align: middle;\n",
       "    }\n",
       "\n",
       "    .dataframe tbody tr th {\n",
       "        vertical-align: top;\n",
       "    }\n",
       "\n",
       "    .dataframe thead th {\n",
       "        text-align: right;\n",
       "    }\n",
       "</style>\n",
       "<table border=\"1\" class=\"dataframe\">\n",
       "  <thead>\n",
       "    <tr style=\"text-align: right;\">\n",
       "      <th></th>\n",
       "      <th>Ping (ms)</th>\n",
       "      <th>Download (Mbit/s)</th>\n",
       "      <th>Upload (Mbit/s)</th>\n",
       "      <th>Date</th>\n",
       "      <th>Time</th>\n",
       "    </tr>\n",
       "  </thead>\n",
       "  <tbody>\n",
       "    <tr>\n",
       "      <th>0</th>\n",
       "      <td>26.992</td>\n",
       "      <td>91.80</td>\n",
       "      <td>14.31</td>\n",
       "      <td>2016-11-24</td>\n",
       "      <td>13:36:25</td>\n",
       "    </tr>\n",
       "    <tr>\n",
       "      <th>1</th>\n",
       "      <td>24.532</td>\n",
       "      <td>88.19</td>\n",
       "      <td>14.12</td>\n",
       "      <td>2016-11-24</td>\n",
       "      <td>13:36:55</td>\n",
       "    </tr>\n",
       "    <tr>\n",
       "      <th>2</th>\n",
       "      <td>20.225</td>\n",
       "      <td>59.86</td>\n",
       "      <td>14.11</td>\n",
       "      <td>2016-11-24</td>\n",
       "      <td>13:37:25</td>\n",
       "    </tr>\n",
       "    <tr>\n",
       "      <th>3</th>\n",
       "      <td>19.332</td>\n",
       "      <td>91.81</td>\n",
       "      <td>14.22</td>\n",
       "      <td>2016-11-24</td>\n",
       "      <td>13:37:57</td>\n",
       "    </tr>\n",
       "    <tr>\n",
       "      <th>4</th>\n",
       "      <td>22.494</td>\n",
       "      <td>92.05</td>\n",
       "      <td>14.08</td>\n",
       "      <td>2016-11-24</td>\n",
       "      <td>13:38:27</td>\n",
       "    </tr>\n",
       "  </tbody>\n",
       "</table>\n",
       "</div>"
      ],
      "text/plain": [
       "  Ping (ms) Download (Mbit/s)  Upload (Mbit/s)        Date      Time\n",
       "0    26.992             91.80            14.31  2016-11-24  13:36:25\n",
       "1    24.532             88.19            14.12  2016-11-24  13:36:55\n",
       "2    20.225             59.86            14.11  2016-11-24  13:37:25\n",
       "3    19.332             91.81            14.22  2016-11-24  13:37:57\n",
       "4    22.494             92.05            14.08  2016-11-24  13:38:27"
      ]
     },
     "execution_count": 69,
     "metadata": {},
     "output_type": "execute_result"
    }
   ],
   "source": [
    "# Code cell 30\n",
    "df_compact.drop(['Datetime'], axis=1, inplace=True)\n",
    "df_compact.head()"
   ]
  },
  {
   "cell_type": "markdown",
   "metadata": {},
   "source": [
    "Enter the code to print out the first 3 rows of the data frame to verify the changes."
   ]
  },
  {
   "cell_type": "code",
   "execution_count": 70,
   "metadata": {},
   "outputs": [
    {
     "data": {
      "text/html": [
       "<div>\n",
       "<style scoped>\n",
       "    .dataframe tbody tr th:only-of-type {\n",
       "        vertical-align: middle;\n",
       "    }\n",
       "\n",
       "    .dataframe tbody tr th {\n",
       "        vertical-align: top;\n",
       "    }\n",
       "\n",
       "    .dataframe thead th {\n",
       "        text-align: right;\n",
       "    }\n",
       "</style>\n",
       "<table border=\"1\" class=\"dataframe\">\n",
       "  <thead>\n",
       "    <tr style=\"text-align: right;\">\n",
       "      <th></th>\n",
       "      <th>Type A</th>\n",
       "      <th>Measure A</th>\n",
       "      <th>Units A</th>\n",
       "      <th>Type B</th>\n",
       "      <th>Measure B</th>\n",
       "      <th>Units B</th>\n",
       "      <th>Type C</th>\n",
       "      <th>Measure C</th>\n",
       "      <th>Units C</th>\n",
       "      <th>Datetime</th>\n",
       "    </tr>\n",
       "  </thead>\n",
       "  <tbody>\n",
       "    <tr>\n",
       "      <th>0</th>\n",
       "      <td>Ping:</td>\n",
       "      <td>26.992</td>\n",
       "      <td>ms</td>\n",
       "      <td>Download:</td>\n",
       "      <td>91.80</td>\n",
       "      <td>Mbit/s</td>\n",
       "      <td>Upload:</td>\n",
       "      <td>14.31</td>\n",
       "      <td>Mbit/s</td>\n",
       "      <td>2016-11-24 13:36:25</td>\n",
       "    </tr>\n",
       "    <tr>\n",
       "      <th>1</th>\n",
       "      <td>Ping:</td>\n",
       "      <td>24.532</td>\n",
       "      <td>ms</td>\n",
       "      <td>Download:</td>\n",
       "      <td>88.19</td>\n",
       "      <td>Mbit/s</td>\n",
       "      <td>Upload:</td>\n",
       "      <td>14.12</td>\n",
       "      <td>Mbit/s</td>\n",
       "      <td>2016-11-24 13:36:55</td>\n",
       "    </tr>\n",
       "    <tr>\n",
       "      <th>2</th>\n",
       "      <td>Ping:</td>\n",
       "      <td>20.225</td>\n",
       "      <td>ms</td>\n",
       "      <td>Download:</td>\n",
       "      <td>59.86</td>\n",
       "      <td>Mbit/s</td>\n",
       "      <td>Upload:</td>\n",
       "      <td>14.11</td>\n",
       "      <td>Mbit/s</td>\n",
       "      <td>2016-11-24 13:37:25</td>\n",
       "    </tr>\n",
       "  </tbody>\n",
       "</table>\n",
       "</div>"
      ],
      "text/plain": [
       "  Type A Measure A Units A     Type B Measure B Units B   Type C  Measure C  \\\n",
       "0  Ping:    26.992      ms  Download:     91.80  Mbit/s  Upload:      14.31   \n",
       "1  Ping:    24.532      ms  Download:     88.19  Mbit/s  Upload:      14.12   \n",
       "2  Ping:    20.225      ms  Download:     59.86  Mbit/s  Upload:      14.11   \n",
       "\n",
       "  Units C             Datetime  \n",
       "0  Mbit/s  2016-11-24 13:36:25  \n",
       "1  Mbit/s  2016-11-24 13:36:55  \n",
       "2  Mbit/s  2016-11-24 13:37:25  "
      ]
     },
     "execution_count": 70,
     "metadata": {},
     "output_type": "execute_result"
    }
   ],
   "source": [
    "# Code cell 31\n",
    "df_redundant.head(3)"
   ]
  },
  {
   "cell_type": "markdown",
   "metadata": {},
   "source": [
    "d) Use the `type` function to print out the variable type of the values in the `Date` and `Time` columns."
   ]
  },
  {
   "cell_type": "code",
   "execution_count": 71,
   "metadata": {},
   "outputs": [
    {
     "name": "stdout",
     "output_type": "stream",
     "text": [
      "2016-11-24 <class 'datetime.date'>\n",
      "13:36:25 <class 'datetime.time'>\n"
     ]
    }
   ],
   "source": [
    "# Code cell 32\n",
    "print(df_compact['Date'][0], type(df_compact['Date'][0]) )\n",
    "print(df_compact['Time'][0], type(df_compact['Time'][0]) )"
   ]
  },
  {
   "cell_type": "markdown",
   "metadata": {},
   "source": [
    "#### Step 5: Save the new data frame.\n",
    "Save the pandas dataframe `df_compact` as a csv file called `rpi_data_compact`:"
   ]
  },
  {
   "cell_type": "code",
   "execution_count": 73,
   "metadata": {},
   "outputs": [],
   "source": [
    "# Code cell 33\n",
    "df_compact.to_csv('/Users/User/Desktop/ucheba/Labs_1,2,3/Data/rpi_data_compact.csv')"
   ]
  },
  {
   "cell_type": "markdown",
   "metadata": {},
   "source": [
    "<font size='0.5'>&copy; 2017 Cisco and/or its affiliates. All rights reserved. This document is Cisco Public.<font>"
   ]
  }
 ],
 "metadata": {
  "anaconda-cloud": {},
  "kernelspec": {
   "display_name": "Python 3",
   "language": "python",
   "name": "python3"
  },
  "language_info": {
   "codemirror_mode": {
    "name": "ipython",
    "version": 3
   },
   "file_extension": ".py",
   "mimetype": "text/x-python",
   "name": "python",
   "nbconvert_exporter": "python",
   "pygments_lexer": "ipython3",
   "version": "3.8.5"
  }
 },
 "nbformat": 4,
 "nbformat_minor": 1
}
